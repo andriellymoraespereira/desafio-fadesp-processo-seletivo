{
 "cells": [
  {
   "cell_type": "markdown",
   "id": "9914ad5c",
   "metadata": {},
   "source": [
    "# <font color= 'purple'>Andrielly Pereira </font>\n",
    "\n",
    "## <font color ='black'>Desafio FADESP Processo Seletivo</font>"
   ]
  },
  {
   "cell_type": "code",
   "execution_count": null,
   "id": "dc62d476",
   "metadata": {},
   "outputs": [],
   "source": [
    "# Versão linguagem Python\n",
    "from platform import python_version\n",
    "print('Versão de Linguagem Python Usado Neste Jupyter Notebook:', python_version())"
   ]
  },
  {
   "cell_type": "markdown",
   "id": "e8e9a913",
   "metadata": {},
   "source": [
    "## Inicializando o Projeto"
   ]
  },
  {
   "cell_type": "code",
   "execution_count": null,
   "id": "3fb95bf0",
   "metadata": {},
   "outputs": [],
   "source": [
    "# Para atualizar um pacote, execute o comando abaixo no terminal ou prompt de comando:\n",
    "# pip install -U nome_pacote\n",
    "\n",
    "# Para instalar a versão exata de um pacote, execute o comando abaixo no terminal ou prompt de comando:\n",
    "# pip install nome_pacote==versão_desejada\n",
    "\n",
    "# Depois de instalar ou atualizar o pacote, reinicie o jupyter notebook.\n",
    "\n",
    "# Instala o pacote watermark. \n",
    "# Esse pacote é usado para gravar as versões de outros pacotes usados neste jupyter notebook.\n",
    "!pip install -q -U watermark"
   ]
  },
  {
   "cell_type": "markdown",
   "id": "3a65be73",
   "metadata": {},
   "source": [
    "### Carregando os Pacotes"
   ]
  },
  {
   "cell_type": "code",
   "execution_count": null,
   "id": "9441e45f",
   "metadata": {},
   "outputs": [],
   "source": [
    "# manipulação e Visualização de dados\n",
    "import time\n",
    "import pickle\n",
    "import sklearn\n",
    "import datetime\n",
    "import numpy as np\n",
    "import pandas as pd\n",
    "import sqlite3\n",
    "import seaborn as sns\n",
    "import matplotlib as m\n",
    "import matplotlib.pyplot as plt\n",
    "\n",
    "\n",
    "# Machine Learning\n",
    "from sklearn.model_selection import train_test_split\n",
    "from sklearn.preprocessing import StandardScaler\n",
    "from sklearn.linear_model import LinearRegression\n",
    "from sklearn.metrics import mean_absolute_error, mean_squared_error, r2_score, explained_variance_score\n",
    "sns.set_style('whitegrid')\n",
    "%matplotlib inline\n",
    "import warnings\n",
    "warnings.filterwarnings(\"ignore\", category=FutureWarning)\n",
    "\n",
    "# Formatação dos Gráficos\n",
    "plt.style.use('fivethirtyeight')\n",
    "plt.figure(1, figsize = (15, 6))\n",
    "%matplotlib inline"
   ]
  },
  {
   "cell_type": "code",
   "execution_count": null,
   "id": "f7b29135",
   "metadata": {},
   "outputs": [],
   "source": [
    "# Versões dos Pacotes usados\n",
    "%reload_ext watermark\n",
    "%watermark -a \"Andrielly Moraes\" --iversions"
   ]
  },
  {
   "cell_type": "markdown",
   "id": "1ebadb6c",
   "metadata": {},
   "source": [
    "## Carregando os Dados"
   ]
  },
  {
   "cell_type": "code",
   "execution_count": null,
   "id": "cfe8ed48",
   "metadata": {},
   "outputs": [],
   "source": [
    "# Carregue o dataset\n",
    "filename = 'https://raw.githubusercontent.com/andriellymoraespereira/desafio-fadesp-processo-seletivo/master/data/dataset_desafio_fadesp.csv'\n",
    "df = pd.read_csv(filename, index_col = 0, encoding = 'latin-1')"
   ]
  },
  {
   "cell_type": "markdown",
   "id": "6c8e739a",
   "metadata": {},
   "source": [
    "Armagenando o dataset em um banco de dados chave-valor SQLite "
   ]
  },
  {
   "cell_type": "code",
   "execution_count": null,
   "id": "a32f217b",
   "metadata": {},
   "outputs": [],
   "source": [
    "conn = sqlite3.connect('enterprise.db')"
   ]
  },
  {
   "cell_type": "code",
   "execution_count": null,
   "id": "faa8da8f",
   "metadata": {},
   "outputs": [],
   "source": [
    "df.to_sql(name='sales', con=conn)"
   ]
  },
  {
   "cell_type": "code",
   "execution_count": null,
   "id": "42cb1797",
   "metadata": {},
   "outputs": [],
   "source": [
    "!sqlite3 enterprise.db \".tables\""
   ]
  },
  {
   "cell_type": "code",
   "execution_count": null,
   "id": "b6de7dce",
   "metadata": {},
   "outputs": [],
   "source": [
    "# salvando os dados\n",
    "!sqlite3 enterprise.db \"PRAGMA table_info(sales)\""
   ]
  },
  {
   "cell_type": "code",
   "execution_count": null,
   "id": "59362880",
   "metadata": {},
   "outputs": [],
   "source": [
    "# recuperando os dados direto em um pandas dataframe\n",
    "df_read = pd.read_sql('SELECT * FROM sales', con = conn)"
   ]
  },
  {
   "cell_type": "code",
   "execution_count": null,
   "id": "480eb615",
   "metadata": {},
   "outputs": [],
   "source": [
    "type(df_read)"
   ]
  },
  {
   "cell_type": "code",
   "execution_count": null,
   "id": "ec5aea7d",
   "metadata": {},
   "outputs": [],
   "source": [
    "df_read"
   ]
  },
  {
   "cell_type": "code",
   "execution_count": null,
   "id": "9852e9e2",
   "metadata": {},
   "outputs": [],
   "source": [
    "query = \"\"\"\n",
    "           SELECT *\n",
    "           FROM sales;\n",
    "        \"\"\"\n",
    "df_read = pd.read_sql(query, con=conn, index_col=\"Row ID\")\n",
    "df_read "
   ]
  },
  {
   "cell_type": "markdown",
   "id": "f443f5e1",
   "metadata": {},
   "source": [
    "Criando uma nova variavel para a quantidade total vendida."
   ]
  },
  {
   "cell_type": "code",
   "execution_count": null,
   "id": "af8df0a4",
   "metadata": {},
   "outputs": [],
   "source": [
    "query = \"\"\"\n",
    "           SELECT *, \"Quantity\" * \"Sales\" AS \"total\"\n",
    "           FROM sales;\n",
    "        \"\"\"\n",
    "df_read = pd.read_sql(query, con=conn, index_col=\"Row ID\")\n",
    "df_read "
   ]
  },
  {
   "cell_type": "markdown",
   "id": "636f1de9",
   "metadata": {},
   "source": [
    "Salvando os novos dados na tabela sales"
   ]
  },
  {
   "cell_type": "code",
   "execution_count": null,
   "id": "156c3132",
   "metadata": {},
   "outputs": [],
   "source": [
    "df_read.to_sql(name='sales', con=conn, if_exists = 'replace')"
   ]
  },
  {
   "cell_type": "code",
   "execution_count": null,
   "id": "b48c6049",
   "metadata": {},
   "outputs": [],
   "source": [
    "df_read = pd.read_sql('SELECT * FROM sales', con=conn)\n",
    "df_read"
   ]
  },
  {
   "cell_type": "code",
   "execution_count": null,
   "id": "b6d5031c",
   "metadata": {},
   "outputs": [],
   "source": [
    "# fechando a conexão com o banco de dados\n",
    "conn.close()"
   ]
  },
  {
   "cell_type": "markdown",
   "id": "7831bea0",
   "metadata": {},
   "source": [
    "### Análise Exploratória"
   ]
  },
  {
   "cell_type": "markdown",
   "id": "b68d9452",
   "metadata": {},
   "source": [
    "Vamos explorar os dados por diferentes perspectivas e compreender um pouco mais o relacionamento entre as variáveis."
   ]
  },
  {
   "cell_type": "code",
   "execution_count": null,
   "id": "b950bf8a",
   "metadata": {},
   "outputs": [],
   "source": [
    "# Colunas\n",
    "df.columns"
   ]
  },
  {
   "cell_type": "code",
   "execution_count": null,
   "id": "3a0c2072",
   "metadata": {},
   "outputs": [],
   "source": [
    "# Renomeado as colunas\n",
    "df = df.rename(columns={\n",
    "    \"Row ID\": \"Row_ID\",\n",
    "    \"Order ID\": \"Order_ID\",\n",
    "    \"Order Date\": \"Order_Date\",\n",
    "    \"Ship Date\": \"Ship_Date\",\n",
    "    \"Ship Mode\": \"Ship_Mode\",\n",
    "    \"Customer ID\": \"Customer_ID\",\n",
    "    \"Customer Name\": \"Customer_Name\",\n",
    "    \"Product ID\": \"Product_ID\",\n",
    "    \"Sub-Category\": \"Sub_Category\",\n",
    "    \"Product Name\": \"Product_Name\",\n",
    "    \"Shipping Cost\": \"Shipping_Cost\",\n",
    "    \"Order Priority\": \"Order_Priority\"\n",
    "})"
   ]
  },
  {
   "cell_type": "code",
   "execution_count": null,
   "id": "f1778e21",
   "metadata": {
    "scrolled": false
   },
   "outputs": [],
   "source": [
    "# Verificação de total de valores únicos por coluna\n",
    "df.nunique()"
   ]
  },
  {
   "cell_type": "code",
   "execution_count": null,
   "id": "08852dcd",
   "metadata": {},
   "outputs": [],
   "source": [
    "# Resumo das colunas numéricas\n",
    "df.describe()"
   ]
  },
  {
   "cell_type": "code",
   "execution_count": null,
   "id": "f6494000",
   "metadata": {},
   "outputs": [],
   "source": [
    "# Verificando dados nulos\n",
    "df.info()"
   ]
  },
  {
   "cell_type": "markdown",
   "id": "72baaa2b",
   "metadata": {},
   "source": [
    "Para esta análise vamos excluir a variavel Postal Code "
   ]
  },
  {
   "cell_type": "code",
   "execution_count": null,
   "id": "7045fb17",
   "metadata": {},
   "outputs": [],
   "source": [
    "df = df.drop(columns=['Postal Code'])"
   ]
  },
  {
   "cell_type": "code",
   "execution_count": null,
   "id": "7943804f",
   "metadata": {},
   "outputs": [],
   "source": [
    "# Convertendo a coluna de data para o tipo data\n",
    "df.Order_Date  = pd.to_datetime(df.Order_Date)\n",
    "df.Ship_Date  = pd.to_datetime(df.Ship_Date)"
   ]
  },
  {
   "cell_type": "code",
   "execution_count": null,
   "id": "ee7be80c",
   "metadata": {},
   "outputs": [],
   "source": [
    "# tipos de dados\n",
    "df.dtypes"
   ]
  },
  {
   "cell_type": "code",
   "execution_count": null,
   "id": "0bb4e74e",
   "metadata": {},
   "outputs": [],
   "source": [
    "# Range de datas do periodo que ocorreram as vendas\n",
    "print('Data Mínima:', df['Order_Date'].min())\n",
    "print('Data Maxíma:', df['Order_Date'].max())"
   ]
  },
  {
   "cell_type": "markdown",
   "id": "a6e834d4",
   "metadata": {},
   "source": [
    "Agora vamos conhecer os valores dentro das váriaveis region, category, Ship Mode, Market"
   ]
  },
  {
   "cell_type": "code",
   "execution_count": null,
   "id": "13717b8c",
   "metadata": {},
   "outputs": [],
   "source": [
    "# Contagem (Region)\n",
    "df['Region'].value_counts()"
   ]
  },
  {
   "cell_type": "code",
   "execution_count": null,
   "id": "953ea544",
   "metadata": {},
   "outputs": [],
   "source": [
    "# Contagem (Category)\n",
    "df['Category'].value_counts()"
   ]
  },
  {
   "cell_type": "code",
   "execution_count": null,
   "id": "5b8e8520",
   "metadata": {},
   "outputs": [],
   "source": [
    "# Contagem (Ship Mode)\n",
    "df['Ship_Mode'].value_counts()"
   ]
  },
  {
   "cell_type": "code",
   "execution_count": null,
   "id": "748e7b76",
   "metadata": {},
   "outputs": [],
   "source": [
    "# Contagem (Market)\n",
    "df['Market'].value_counts()"
   ]
  },
  {
   "cell_type": "markdown",
   "id": "9d3b122f",
   "metadata": {},
   "source": [
    "Identificão dos produtos mais vendidos e analisando sua distribuição geográfica."
   ]
  },
  {
   "cell_type": "code",
   "execution_count": null,
   "id": "0fc511fd",
   "metadata": {},
   "outputs": [],
   "source": [
    "df.groupby(['Country','Product_Name'])['Quantity'].sum().sort_values(ascending=False).reset_index()"
   ]
  },
  {
   "cell_type": "markdown",
   "id": "1e208ee9",
   "metadata": {},
   "source": [
    "O produto mais vendido foi Staples e, seu maior produtor é United States."
   ]
  },
  {
   "cell_type": "code",
   "execution_count": null,
   "id": "f0e44580",
   "metadata": {},
   "outputs": [],
   "source": [
    "# BoxPlot do Valor da venda realizada por Modo de envio do pedido.\n",
    "ax = df.plot.box(column=\"Sales\", by=\"Ship_Mode\", figsize=(10, 8))"
   ]
  },
  {
   "cell_type": "markdown",
   "id": "4b800c58",
   "metadata": {},
   "source": [
    "O modo de envio classe padrão apresdentar os maiores outlirs em relação ao Valor da venda realizada."
   ]
  },
  {
   "cell_type": "code",
   "execution_count": null,
   "id": "c5947da7",
   "metadata": {},
   "outputs": [],
   "source": [
    "# Correlação (tabela)\n",
    "df.corr()"
   ]
  },
  {
   "cell_type": "code",
   "execution_count": null,
   "id": "bb40443e",
   "metadata": {},
   "outputs": [],
   "source": [
    "# Correlação (visual)\n",
    "sns.pairplot(df)"
   ]
  },
  {
   "cell_type": "code",
   "execution_count": null,
   "id": "6551fd25",
   "metadata": {},
   "outputs": [],
   "source": [
    "# análise da relação entre Disconto(Discount) e valor da venda realisada (sales)\n",
    "# Plot\n",
    "plt.figure(figsize = (10, 8))\n",
    "sns.set(font_scale = 1.1)\n",
    "sns.jointplot(data = df, \n",
    "              x = 'Sales', \n",
    "              y = 'Discount',\n",
    "              color = 'blue')"
   ]
  },
  {
   "cell_type": "markdown",
   "id": "00ca7a18",
   "metadata": {},
   "source": [
    "Observando os histogramas, podemos ver que os dados não tem distribuídos normal.\n",
    "\n",
    "Observando o gráfico de dispersão, não parece haver correlação entre as duas variáveis. Vamos confirmar calculando o coeficiente de correlação entre elas."
   ]
  },
  {
   "cell_type": "code",
   "execution_count": null,
   "id": "f972aa0d",
   "metadata": {},
   "outputs": [],
   "source": [
    "# Correlação\n",
    "df[['Sales', 'Discount']].corr()"
   ]
  },
  {
   "cell_type": "markdown",
   "id": "3853e684",
   "metadata": {},
   "source": [
    "Há uma correlação inversa entre o Desconto realizado e  Valor da venda realizada, os descontos impulsionam as vendas."
   ]
  },
  {
   "cell_type": "code",
   "execution_count": null,
   "id": "2c700386",
   "metadata": {},
   "outputs": [],
   "source": [
    "# análise da relação entre Quantidade de produtos vendidos e o Valor do frete.\n",
    "# Plot\n",
    "plt.figure(figsize = (10, 8))\n",
    "sns.set(font_scale = 1.1)\n",
    "sns.jointplot(data = df, \n",
    "              x = 'Sales', \n",
    "              y = 'Shipping_Cost',\n",
    "              color = 'blue')"
   ]
  },
  {
   "cell_type": "markdown",
   "id": "09d6f767",
   "metadata": {},
   "source": [
    "Observando os histogramas, podemos ver que os dados não tem distribuídos normal.\n",
    "\n",
    "Observando o gráfico de dispersão, não parece haver correlação entre as duas variáveis. Vamos confirmar calculando o coeficiente de correlação entre elas."
   ]
  },
  {
   "cell_type": "code",
   "execution_count": null,
   "id": "2470452c",
   "metadata": {},
   "outputs": [],
   "source": [
    "# Correlação\n",
    "df[['Sales', 'Shipping_Cost']].corr()"
   ]
  },
  {
   "cell_type": "markdown",
   "id": "70d5adc8",
   "metadata": {},
   "source": [
    "Há uma alta correlação positiva entre a Quantidade de produtos vendidos e o Valor do frete."
   ]
  },
  {
   "cell_type": "markdown",
   "id": "7be07527",
   "metadata": {},
   "source": [
    "Agora vamos separamos os dados em dois conjuntos (2013 e 2014) para exibir a evolução do lucro bruto ao longo de cada ano. Plotando no mesmo gráfico podemos fazer um comparativo dos anos mês a mês."
   ]
  },
  {
   "cell_type": "code",
   "execution_count": null,
   "id": "5e2cbf5e",
   "metadata": {},
   "outputs": [],
   "source": [
    "#Selecionando apenas as vendas de 2013\n",
    "df_2013 = df[df[\"Order_Date\"].dt.year == 2013]\n",
    "#Selecionando apenas as vendas de 2014\n",
    "df_2014 = df[df[\"Order_Date\"].dt.year == 2014]\n",
    "# Comparativo de lucro bruto por mês\n",
    "df_2013.groupby(df_2013[\"Order_Date\"].dt.month)[\"Profit\"].sum().plot(color='red', label='Ano 2013')\n",
    "df_2014.groupby(df_2014[\"Order_Date\"].dt.month)[\"Profit\"].sum().plot(color='green', label='Ano 2014')\n",
    "plt.title(\"Lucro x Mês\")\n",
    "plt.xlabel(\"Mês\")\n",
    "plt.ylabel(\"Lucro Bruto\")\n",
    "plt.legend()\n",
    "plt.show()"
   ]
  },
  {
   "cell_type": "markdown",
   "id": "eab617db",
   "metadata": {},
   "source": [
    "No gráfico Lucro x Mês, verifica-se que o ano de 2014 apresentou maior lucro por mês, comparado ao ano de 2013."
   ]
  },
  {
   "cell_type": "markdown",
   "id": "ca61b60b",
   "metadata": {},
   "source": [
    "## Pré-Processamento de Dados Para Construção de Modelos de Machine Learning."
   ]
  },
  {
   "cell_type": "code",
   "execution_count": null,
   "id": "f8936c53",
   "metadata": {},
   "outputs": [],
   "source": [
    "# Variáveis de entrada (variáveis preditoras)\n",
    "X = df[['Quantity', \n",
    "        'Discount',\n",
    "        'Profit', \n",
    "        'Shipping_Cost']]"
   ]
  },
  {
   "cell_type": "code",
   "execution_count": null,
   "id": "580f1d26",
   "metadata": {},
   "outputs": [],
   "source": [
    "# Variável de saída (variável alvo ou target)\n",
    "y = df['Sales']"
   ]
  },
  {
   "cell_type": "code",
   "execution_count": null,
   "id": "c57d9ccb",
   "metadata": {},
   "outputs": [],
   "source": [
    "# Divisão em dados de treino e teste\n",
    "X_treino, X_teste, y_treino, y_teste = train_test_split(X, y, test_size = 0.3, random_state = 101)"
   ]
  },
  {
   "cell_type": "code",
   "execution_count": null,
   "id": "86a8d0df",
   "metadata": {},
   "outputs": [],
   "source": [
    "len(X_treino)"
   ]
  },
  {
   "cell_type": "code",
   "execution_count": null,
   "id": "549b9939",
   "metadata": {},
   "outputs": [],
   "source": [
    "len(X_teste)"
   ]
  },
  {
   "cell_type": "markdown",
   "id": "055a9d8d",
   "metadata": {},
   "source": [
    "### Padronização"
   ]
  },
  {
   "cell_type": "code",
   "execution_count": null,
   "id": "3014e2d9",
   "metadata": {},
   "outputs": [],
   "source": [
    "scaler = StandardScaler()"
   ]
  },
  {
   "cell_type": "code",
   "execution_count": null,
   "id": "39499ff6",
   "metadata": {},
   "outputs": [],
   "source": [
    "scaler.fit(X_treino)"
   ]
  },
  {
   "cell_type": "code",
   "execution_count": null,
   "id": "3eab1c2c",
   "metadata": {},
   "outputs": [],
   "source": [
    "X_treino = scaler.transform(X_treino)"
   ]
  },
  {
   "cell_type": "code",
   "execution_count": null,
   "id": "db9e3b6b",
   "metadata": {},
   "outputs": [],
   "source": [
    "X_teste = scaler.transform(X_teste)"
   ]
  },
  {
   "cell_type": "code",
   "execution_count": null,
   "id": "6c545f55",
   "metadata": {},
   "outputs": [],
   "source": [
    "X_treino[:5]"
   ]
  },
  {
   "cell_type": "code",
   "execution_count": null,
   "id": "7b06186d",
   "metadata": {},
   "outputs": [],
   "source": [
    "X_teste[:5]"
   ]
  },
  {
   "cell_type": "markdown",
   "id": "5b3f1004",
   "metadata": {},
   "source": [
    "# Construção, Treinamento e Avaliação do Modelo de Regressão Linear (Benchmark)\n",
    "https://scikit-learn.org/stable/modules/generated/sklearn.linear_model.LinearRegression.html"
   ]
  },
  {
   "cell_type": "code",
   "execution_count": null,
   "id": "70a2ea41",
   "metadata": {},
   "outputs": [],
   "source": [
    "# Modelo\n",
    "modelo = LinearRegression()"
   ]
  },
  {
   "cell_type": "code",
   "execution_count": null,
   "id": "d2815977",
   "metadata": {},
   "outputs": [],
   "source": [
    "# Treinamento\n",
    "modelo.fit(X_treino, y_treino)"
   ]
  },
  {
   "cell_type": "code",
   "execution_count": null,
   "id": "c4a6d59e",
   "metadata": {},
   "outputs": [],
   "source": [
    "print('Coeficientes: \\n', modelo.coef_)"
   ]
  },
  {
   "cell_type": "code",
   "execution_count": null,
   "id": "809dae89",
   "metadata": {},
   "outputs": [],
   "source": [
    "# Coeficientes das variáveis preditoras\n",
    "df_coef = pd.DataFrame(modelo.coef_, X.columns, columns = ['Coeficiente'])\n",
    "df_coef"
   ]
  },
  {
   "cell_type": "markdown",
   "id": "806aa5ec",
   "metadata": {},
   "source": [
    "### Avaliação do Modelo"
   ]
  },
  {
   "cell_type": "code",
   "execution_count": null,
   "id": "e7859b9f",
   "metadata": {},
   "outputs": [],
   "source": [
    "# Previsões com dados de teste\n",
    "pred = modelo.predict(X_teste)"
   ]
  },
  {
   "cell_type": "code",
   "execution_count": null,
   "id": "cc3c768b",
   "metadata": {},
   "outputs": [],
   "source": [
    "# Imprime as 10 primeiras previsões\n",
    "pred[:10]"
   ]
  },
  {
   "cell_type": "code",
   "execution_count": null,
   "id": "6c5bafb1",
   "metadata": {},
   "outputs": [],
   "source": [
    "plt.figure(figsize = (10,8))\n",
    "plt.scatter(x = y_teste, y = pred, color = 'green', edgecolors = 'blue')\n",
    "plt.xlabel('Valor Real de Y')\n",
    "plt.ylabel('Valor Previsto de Y');"
   ]
  },
  {
   "cell_type": "markdown",
   "id": "9ae76935",
   "metadata": {},
   "source": [
    "A partir do gráfico de dispersão, podemos ver que há uma correlação psitiva entre os y's previstos e os y's reais nos dados do teste."
   ]
  },
  {
   "cell_type": "code",
   "execution_count": null,
   "id": "d5c42f91",
   "metadata": {},
   "outputs": [],
   "source": [
    "# Valor médiode venda realizada pelos clientes\n",
    "df['Sales'].mean()"
   ]
  },
  {
   "cell_type": "code",
   "execution_count": null,
   "id": "8e4dfd61",
   "metadata": {},
   "outputs": [],
   "source": [
    "# Valor mínimo\n",
    "df['Sales'].min()"
   ]
  },
  {
   "cell_type": "code",
   "execution_count": null,
   "id": "2a527ce9",
   "metadata": {},
   "outputs": [],
   "source": [
    "# Valor máximo\n",
    "df['Sales'].max()"
   ]
  },
  {
   "cell_type": "code",
   "execution_count": null,
   "id": "116ea43f",
   "metadata": {},
   "outputs": [],
   "source": [
    "# MAE - Erro Médio Absoluto\n",
    "mean_absolute_error(y_teste, pred)"
   ]
  },
  {
   "cell_type": "markdown",
   "id": "c4578795",
   "metadata": {},
   "source": [
    "O MAE prevê que, em média, as previsões do nosso modelo (Valor da venda realizada) estão erradas em aproximadamente 117.57 reais, o que é aproximadamente a metade do valor comparado ao valor médio de venda realizada por cliente."
   ]
  },
  {
   "cell_type": "code",
   "execution_count": null,
   "id": "6f2c98f3",
   "metadata": {},
   "outputs": [],
   "source": [
    "# MSE - Erro quadrático médio\n",
    "mean_squared_error(y_teste, pred)"
   ]
  },
  {
   "cell_type": "code",
   "execution_count": null,
   "id": "16a5c3ed",
   "metadata": {},
   "outputs": [],
   "source": [
    "# MAPE\n",
    "MAPE = np.mean(np.abs((y_teste - pred) / y_teste)) * 100\n",
    "print(f\"Valor do MAPE dado em percentual: {MAPE}\")"
   ]
  },
  {
   "cell_type": "code",
   "execution_count": null,
   "id": "2c8157a8",
   "metadata": {},
   "outputs": [],
   "source": [
    "# Coeficiente R2\n",
    "r2_score(y_teste, pred)"
   ]
  },
  {
   "cell_type": "code",
   "execution_count": null,
   "id": "1a2c3c38",
   "metadata": {},
   "outputs": [],
   "source": [
    "# Variância Explicada\n",
    "explained_variance_score(y_teste, pred)"
   ]
  },
  {
   "cell_type": "markdown",
   "id": "cd261d9a",
   "metadata": {},
   "source": [
    "Nosso modelo é capaz de explicar 70% da variância dos dados, o que é bom.\n",
    "\n",
    "O coeficiente R² = 0,.6957 significa que o modelo linear explica 69,57% da variância da variável dependente a partir do regressores (variáveis independentes) incluídas no modelo linear."
   ]
  },
  {
   "cell_type": "markdown",
   "id": "9ae57e78",
   "metadata": {},
   "source": [
    "### Resíduos"
   ]
  },
  {
   "cell_type": "code",
   "execution_count": null,
   "id": "bf3e1068",
   "metadata": {},
   "outputs": [],
   "source": [
    "# Plot\n",
    "plt.figure(figsize = (8,4))\n",
    "ax = sns.distplot((y_teste - pred), \n",
    "                  bins = 40, \n",
    "                  color = 'red', \n",
    "                  hist_kws = dict(edgecolor = 'black', linewidth = 0.3))\n",
    "ax.set(xlim = (-40, 40))\n",
    "ax.set(ylim = (0, 0.055));"
   ]
  },
  {
   "cell_type": "code",
   "execution_count": null,
   "id": "f0625fad",
   "metadata": {},
   "outputs": [],
   "source": [
    "# arquivo Pickle \n",
    "serialized = pickle.dumps(modelo)\n",
    "  \n",
    "print(serialized)"
   ]
  }
 ],
 "metadata": {
  "kernelspec": {
   "display_name": "Python 3 (ipykernel)",
   "language": "python",
   "name": "python3"
  },
  "language_info": {
   "codemirror_mode": {
    "name": "ipython",
    "version": 3
   },
   "file_extension": ".py",
   "mimetype": "text/x-python",
   "name": "python",
   "nbconvert_exporter": "python",
   "pygments_lexer": "ipython3",
   "version": "3.11.1"
  }
 },
 "nbformat": 4,
 "nbformat_minor": 5
}
